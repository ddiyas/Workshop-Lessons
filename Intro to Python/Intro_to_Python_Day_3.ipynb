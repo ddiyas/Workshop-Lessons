{
  "cells": [
    {
      "cell_type": "markdown",
      "metadata": {
        "id": "2VdgaFJoEeAi"
      },
      "source": [
        "# Nested Lists:"
      ]
    },
    {
      "cell_type": "code",
      "execution_count": null,
      "metadata": {
        "colab": {
          "base_uri": "https://localhost:8080/"
        },
        "id": "NtnkwAz_qoe5",
        "outputId": "ec7c9574-ddaa-45d9-d435-e118c83956db"
      },
      "outputs": [],
      "source": [
        "the_patels = [[\"Jignesh Patel\", 42], [\"Jigisha Patel\", 39], [\"Jay Patel\", 17], [\"Jaya Patel\", 15]]\n",
        "print (the_patels[1])\n",
        "print (the_patels[1][0])"
      ]
    },
    {
      "cell_type": "code",
      "execution_count": null,
      "metadata": {
        "colab": {
          "base_uri": "https://localhost:8080/"
        },
        "id": "FipTyNWlz_a0",
        "outputId": "69d28500-b63a-4efc-ee25-be0fc100ab6d"
      },
      "outputs": [],
      "source": [
        "for x in the_patels:\n",
        "    for y in x:\n",
        "        print(y, end=\" \")\n",
        "    print()"
      ]
    },
    {
      "cell_type": "code",
      "execution_count": null,
      "metadata": {
        "colab": {
          "base_uri": "https://localhost:8080/"
        },
        "id": "yH5C_onM0jFW",
        "outputId": "d704947d-9997-4f69-95e3-6dce2519a93b"
      },
      "outputs": [],
      "source": [
        "for i in range(len(the_patels)):\n",
        "    for j in range(len(the_patels[i])):\n",
        "        print(the_patels[i][j])"
      ]
    },
    {
      "cell_type": "markdown",
      "metadata": {
        "id": "f--d_3661F8O"
      },
      "source": [
        "# What our game will need:\n",
        "\n",
        "1. The solution grid -> which has the mines and the numbered cells in it\n",
        "2. The player grid -> which shows what the player sees\n",
        "3. The mines\n",
        "4. Flags to mark potential mines\n",
        "\n",
        "# What we do:\n",
        "\n",
        "1. When the game starts, display instructions on how to play\n",
        "*   Input the coordinates of the cell you are flagging/guessing\n",
        "\n",
        "Methods we need:\n",
        "1. Reset to replay the game\n",
        "2. Open a game square\n",
        "3. Randomly set some mines"
      ]
    },
    {
      "cell_type": "code",
      "execution_count": null,
      "metadata": {
        "colab": {
          "background_save": true,
          "base_uri": "https://localhost:8080/"
        },
        "id": "NJS5Y1lFOhCn",
        "outputId": "5572f2be-2bb7-4f47-ef22-149d4ea67dca"
      },
      "outputs": [],
      "source": [
        "import random\n",
        "\n",
        "# Set the dimensions of the board and the number of mines\n",
        "BOARD_WIDTH = 10\n",
        "BOARD_HEIGHT = 10\n",
        "NUM_MINES = 15\n",
        "\n",
        "# Create the board as a two-dimensional array filled with zeros\n",
        "board = [[0 for x in range(BOARD_WIDTH)] for y in range(BOARD_HEIGHT)]\n",
        "\n",
        "# Place the mines randomly on the board\n",
        "for i in range(NUM_MINES):\n",
        "    x = random.randint(0, BOARD_WIDTH - 1)\n",
        "    y = random.randint(0, BOARD_HEIGHT - 1)\n",
        "    board[x][y] = -1\n",
        "\n",
        "# For each non-mine space on the board, count the number of adjacent mines\n",
        "for x in range(BOARD_WIDTH):\n",
        "    for y in range(BOARD_HEIGHT):\n",
        "        if board[x][y] != -1:\n",
        "            for i in range(-1, 2):\n",
        "                for j in range(-1, 2):\n",
        "                    if x + i >= 0 and x + i < BOARD_WIDTH and y + j >= 0 and y + j < BOARD_HEIGHT and board[x + i][y + j] == -1:\n",
        "                        board[x][y] += 1\n",
        "\n",
        "# Print the board\n",
        "for x in range(BOARD_WIDTH):\n",
        "    for y in range(BOARD_HEIGHT):\n",
        "        if board[x][y] == -1:\n",
        "            print('*', end=' ')\n",
        "        else:\n",
        "            print(board[x][y], end=' ')\n",
        "    print()"
      ]
    }
  ],
  "metadata": {
    "colab": {
      "provenance": []
    },
    "kernelspec": {
      "display_name": "Python 3",
      "name": "python3"
    },
    "language_info": {
      "name": "python"
    }
  },
  "nbformat": 4,
  "nbformat_minor": 0
}
