{
  "cells": [
    {
      "cell_type": "markdown",
      "metadata": {
        "id": "bi_oO9Q6AT0b"
      },
      "source": [
        "# Pandas\n",
        "Pandas is a Python library that's very helpful in working with datasets. It can help clean and analyze data."
      ]
    },
    {
      "cell_type": "markdown",
      "metadata": {
        "id": "ppQVFpiPBzZo"
      },
      "source": [
        "First, we'll start by importing Pandas. Pandas is usually imported as \"pd\" so whenever we want to reference Pandas later, we can simply use pd.\n",
        "\n",
        "\"pd\" is just a name though, you could very well import Pandas as lollipop ¯\\\\\\_(ツ)\\_/¯"
      ]
    },
    {
      "cell_type": "code",
      "execution_count": null,
      "metadata": {
        "id": "ppA-q_qrBFFA"
      },
      "outputs": [],
      "source": [
        "import pandas as pd"
      ]
    },
    {
      "cell_type": "markdown",
      "metadata": {
        "id": "qtO3NjLrC34K"
      },
      "source": [
        "## Series\n",
        "A Pandas Series is a one-dimensional array that can hold any data-type."
      ]
    },
    {
      "cell_type": "code",
      "execution_count": null,
      "metadata": {
        "colab": {
          "base_uri": "https://localhost:8080/"
        },
        "id": "J0-GnJkVEQNz",
        "outputId": "bf7568db-37bc-4a73-c944-6b4b72e092ec"
      },
      "outputs": [],
      "source": [
        "a = [1, \"Toe\", True, 3.2] # this is a list\n",
        "\n",
        "series_a = pd.Series(a)\n",
        "\n",
        "print(series_a)\n",
        "print (a)"
      ]
    },
    {
      "cell_type": "markdown",
      "metadata": {
        "id": "w3oBHv4zFLV9"
      },
      "source": [
        "Notice, when we run this, the indices are printed before the data. We can change these \"indices\" to be whatever we want them to be."
      ]
    },
    {
      "cell_type": "code",
      "execution_count": null,
      "metadata": {
        "colab": {
          "base_uri": "https://localhost:8080/"
        },
        "id": "3yQHsxt4F13d",
        "outputId": "dd470e4a-f80c-4e01-b495-b53c8e990c0e"
      },
      "outputs": [],
      "source": [
        "series_a = pd.Series(a, index = [4, 3, 2, 1])\n",
        "\n",
        "print(series_a)"
      ]
    },
    {
      "cell_type": "markdown",
      "metadata": {
        "id": "D0HPuAZEeuts"
      },
      "source": [
        "### Dictionaries"
      ]
    },
    {
      "cell_type": "code",
      "execution_count": null,
      "metadata": {
        "id": "fUtXREgBdpJX"
      },
      "outputs": [],
      "source": [
        "arbitrary_dictionary =  {\n",
        "    \"Cheese\" : \"the curd of milk separated from the whey and prepared in many ways as a food\",\n",
        "    \"Pig\" : \"any wild or domestic swine in the genus Sus, within the family Suidae\",\n",
        "    \"Blue\" : \"the primary color between green and violet in the visible spectrum, an effect of light with a wavelength between 450 and 500 nanometers.\"\n",
        "}"
      ]
    },
    {
      "cell_type": "markdown",
      "metadata": {
        "id": "1noGcmvbGbrJ"
      },
      "source": [
        "Since a Series has a value and a label associated with that value, it is a lot like a dictionary. We can use a dictionary to make a Series."
      ]
    },
    {
      "cell_type": "code",
      "execution_count": null,
      "metadata": {
        "colab": {
          "base_uri": "https://localhost:8080/"
        },
        "id": "3IWN5t3CGqmK",
        "outputId": "b990214b-2b47-46e1-976e-2fb130e73a76"
      },
      "outputs": [],
      "source": [
        "phonebook = {\n",
        "    \"Bobette\" : 8489325382,\n",
        "    \"Jeffette\" : 9082223651,\n",
        "    \"Robette\" : 5168370828\n",
        "}\n",
        "\n",
        "phonebook_series = pd.Series(phonebook)\n",
        "\n",
        "print(phonebook_series)"
      ]
    },
    {
      "cell_type": "markdown",
      "metadata": {
        "id": "o6IpiCn4H0f2"
      },
      "source": [
        "## DataFrames\n",
        "A DataFrame in Pandas is a multi-dimensional table."
      ]
    },
    {
      "cell_type": "code",
      "execution_count": null,
      "metadata": {
        "colab": {
          "base_uri": "https://localhost:8080/"
        },
        "id": "zSAO0KwjIsmc",
        "outputId": "5b844aaf-a151-42cf-ad47-bc961200116f"
      },
      "outputs": [],
      "source": [
        "theme = {\n",
        "    \"Colors\" : [\"Green\", \"Blue\", \"Red\"],\n",
        "    \"Fonts\" : [\"Times New Roman\", \"Poppins\", \"Happy Monkey\"]\n",
        "} # this is a dictionary\n",
        "\n",
        "theme_df = pd.DataFrame(theme)\n",
        "\n",
        "cols3 = theme_df[theme_df['Colors'].isin([\"Green\"])]\n",
        "\n",
        "#print(cols3)\n",
        "print(theme_df)"
      ]
    },
    {
      "cell_type": "markdown",
      "metadata": {
        "id": "5kiqozDeKBHM"
      },
      "source": [
        "If we were to attempt to create a Series from our dictionary, it ***would*** work but each index would just be associated with the entire list of values, rather than with each other."
      ]
    },
    {
      "cell_type": "code",
      "execution_count": null,
      "metadata": {
        "colab": {
          "base_uri": "https://localhost:8080/"
        },
        "id": "qvfisFmKKhki",
        "outputId": "e4c26fdc-edc2-46fa-9d1c-bc287f1b36ba"
      },
      "outputs": [],
      "source": [
        "theme_series = pd.Series(theme)\n",
        "\n",
        "print(theme_series)"
      ]
    },
    {
      "cell_type": "markdown",
      "metadata": {
        "id": "uDs-lOUmM8oc"
      },
      "source": [
        "Ok, so let's try something with DataFrames. Download [this](https://www.kaggle.com/datasets/micheldc55/social-network-ads) dataset."
      ]
    },
    {
      "cell_type": "code",
      "execution_count": null,
      "metadata": {
        "colab": {
          "base_uri": "https://localhost:8080/"
        },
        "id": "3kOYfzR2J0bf",
        "outputId": "911afd7f-4b05-47ef-9821-750fd3013d2a"
      },
      "outputs": [],
      "source": [
        "df = pd.read_csv('/content/Social_Network_Ads.csv')\n",
        "print(df)"
      ]
    },
    {
      "cell_type": "markdown",
      "metadata": {
        "id": "D-8gwqieAetF"
      },
      "source": [
        "## DataFrame Operations\n",
        "So now we have a DataFrame. Let's do things with it!"
      ]
    },
    {
      "cell_type": "code",
      "execution_count": null,
      "metadata": {
        "colab": {
          "base_uri": "https://localhost:8080/"
        },
        "id": "XpVtEDIBAeGw",
        "outputId": "1e82a502-3f0f-4f7b-95f2-a620b063068e"
      },
      "outputs": [],
      "source": [
        "sorted(df)"
      ]
    },
    {
      "cell_type": "markdown",
      "metadata": {
        "id": "V5Nvfds5cNW8"
      },
      "source": [
        "To get some of the columns as a seperate DataFrame we can do:"
      ]
    },
    {
      "cell_type": "code",
      "execution_count": null,
      "metadata": {
        "id": "JoML_DINOBvc"
      },
      "outputs": [],
      "source": [
        "cols = df[['EstimatedSalary', 'Purchased']]\n",
        "\n",
        "# if we wanted to get some of the columns are Series instead of DataFrames we could do\n",
        "# cols = df['EstimatedSalary', 'Purchased']\n",
        "\n",
        "col2 = df[['EstimatedSalary'] > 20000]\n",
        "\n",
        "cols3 = df[df['Gender'].isin([\"Female\"])]\n",
        "\n",
        "print(cols3)\n",
        "\n",
        "print(cols)"
      ]
    },
    {
      "cell_type": "markdown",
      "metadata": {
        "id": "lMRXLLYov6ti"
      },
      "source": [
        "To get the first few rows of a DataFrame we can do:"
      ]
    },
    {
      "cell_type": "code",
      "execution_count": null,
      "metadata": {
        "id": "Vg0OXwftwIpJ"
      },
      "outputs": [],
      "source": [
        "df.head()"
      ]
    },
    {
      "cell_type": "code",
      "execution_count": null,
      "metadata": {
        "id": "7JRMx6xdwzAb"
      },
      "outputs": [],
      "source": [
        "df.head(2)"
      ]
    },
    {
      "cell_type": "code",
      "execution_count": null,
      "metadata": {
        "id": "kcHKCq3Uw15O"
      },
      "outputs": [],
      "source": [
        "df.tail()"
      ]
    },
    {
      "cell_type": "code",
      "execution_count": null,
      "metadata": {
        "id": "XVEDzgLhyKPN"
      },
      "outputs": [],
      "source": [
        "uploaded = files.upload()\n",
        "\n",
        "police = pd.read_csv()"
      ]
    },
    {
      "cell_type": "markdown",
      "metadata": {
        "id": "f-8l4gMcdqsP"
      },
      "source": [
        "Alternately, if we just wanted to drop some columns from the original DataFrame we can do:"
      ]
    },
    {
      "cell_type": "code",
      "execution_count": null,
      "metadata": {
        "id": "hjtRbrPANMGf"
      },
      "outputs": [],
      "source": [
        "df = df.drop(['User ID'], axis = 1)"
      ]
    },
    {
      "cell_type": "markdown",
      "metadata": {
        "id": "Qod6yYtJPEjf"
      },
      "source": [
        "Some things to notice here, the column we want to drop is enclosed in square brackets which means we are essentially asking Pandas to drop the Series which is titled \"User ID\".\n",
        "\n",
        "The axis refers to the dimension we are searching for \"User ID\". ```axis = 0``` refers to the horizontal dimension or the rows and ```axis = 1``` refers to the vertical dimension or columns."
      ]
    },
    {
      "cell_type": "markdown",
      "metadata": {
        "id": "cHvRDHQqQnmw"
      },
      "source": [
        "To replace values, we can do:"
      ]
    },
    {
      "cell_type": "code",
      "execution_count": null,
      "metadata": {
        "id": "uXJrp3oGQxtS"
      },
      "outputs": [],
      "source": [
        "df = df.replace({\"Male\" : 0, \"Female\" : 1})"
      ]
    }
  ],
  "metadata": {
    "colab": {
      "provenance": []
    },
    "kernelspec": {
      "display_name": "Python 3",
      "name": "python3"
    },
    "language_info": {
      "name": "python"
    }
  },
  "nbformat": 4,
  "nbformat_minor": 0
}
