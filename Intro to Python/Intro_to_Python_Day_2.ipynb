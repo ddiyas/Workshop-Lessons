{
  "cells": [
    {
      "cell_type": "markdown",
      "metadata": {
        "id": "Lu3kBar8S9kl"
      },
      "source": [
        "# Today we're going to be creating a rock paper scissors game. Your game should:\n",
        "\n",
        "\n",
        "*   Have two players --> You and the Computer\n",
        "*   Should first let you choose an option between rock, paper, or scissors\n",
        "*   Then have the computer choose between rock, paper, or scissors\n",
        "*   Declare the winner at the end of each match and add to the toal score\n",
        "*   Play three games and determine the overall winner of those three games\n",
        "\n"
      ]
    },
    {
      "cell_type": "markdown",
      "metadata": {
        "id": "M2mJ1yV9Uq3N"
      },
      "source": [
        "## Random"
      ]
    },
    {
      "cell_type": "code",
      "execution_count": null,
      "metadata": {
        "colab": {
          "base_uri": "https://localhost:8080/"
        },
        "id": "zCYDPl93OM57",
        "outputId": "751759b9-9955-4edf-83e1-d0047da0e768"
      },
      "outputs": [],
      "source": [
        "import random\n",
        "player_move = input(\"[r]ock, [p]aper, [s]cissors? \")\n",
        "\n",
        "computer_num = random.randrange(1, 4)\n",
        "computer_move = \"\"\n",
        "\n",
        "if computer_num == 1:\n",
        "    computer_move = \"r\"\n",
        "elif computer_num == 2:\n",
        "    computer_move = \"p\"\n",
        "elif computer_num == 3:\n",
        "    computer_move = \"s\"\n",
        "\n",
        "print(\"Computer plays\", computer_move)\n",
        "\n",
        "if computer_move == \"s\":\n",
        "    if player_move == \"p\":\n",
        "        print(\"Computer wins!\")\n",
        "    elif player_move == \"r\":\n",
        "        print(\"Player wins!\")\n",
        "    elif player_move == \"s\":\n",
        "        print(\"Draw!\")\n",
        "elif computer_move == \"r\":\n",
        "    if player_move == \"p\":\n",
        "        print(\"Player wins!\")\n",
        "    elif player_move == \"r\":\n",
        "        print(\"Draw!\")\n",
        "    elif player_move == \"s\":\n",
        "        print(\"Computer wins!\")\n",
        "elif computer_move == \"p\":\n",
        "    if player_move == \"p\":\n",
        "        print(\"Draw!\")\n",
        "    elif player_move == \"r\":\n",
        "        print(\"Computer wins!\")\n",
        "    elif player_move == \"s\":\n",
        "        print(\"Player wins!\")"
      ]
    },
    {
      "cell_type": "markdown",
      "metadata": {
        "id": "zwbh0G9CU1s3"
      },
      "source": [
        "```import random``` imports the Python random library into your project which basically means you can now use all of the functions associated with the random library in your project"
      ]
    },
    {
      "cell_type": "code",
      "execution_count": null,
      "metadata": {
        "id": "6tmGs15OSnNM"
      },
      "outputs": [],
      "source": [
        "import random"
      ]
    },
    {
      "cell_type": "markdown",
      "metadata": {
        "id": "8QN4PNGBVNv5"
      },
      "source": [
        "```random.random()``` simply returns a random number between 0 and 1"
      ]
    },
    {
      "cell_type": "code",
      "execution_count": null,
      "metadata": {
        "colab": {
          "base_uri": "https://localhost:8080/"
        },
        "id": "oQqRN6DtVK0p",
        "outputId": "2d156972-6247-4688-8d12-dabeb382e8bf"
      },
      "outputs": [],
      "source": [
        "print(random.random())"
      ]
    },
    {
      "cell_type": "markdown",
      "metadata": {
        "id": "4gppzDXwVo1V"
      },
      "source": [
        "```random.randrange(i, n)``` generates a random number between i and n, inclusive of i and exclusive of n. This will only return integers."
      ]
    },
    {
      "cell_type": "code",
      "execution_count": null,
      "metadata": {
        "colab": {
          "base_uri": "https://localhost:8080/"
        },
        "id": "ffSCNqGOVeZS",
        "outputId": "47ddc96d-fd68-478f-8638-4c836dcbe98f"
      },
      "outputs": [],
      "source": [
        "print(random.randrange(0, 10))"
      ]
    },
    {
      "cell_type": "code",
      "execution_count": null,
      "metadata": {
        "colab": {
          "base_uri": "https://localhost:8080/"
        },
        "id": "vLG8fiblpga4",
        "outputId": "d0a67f29-7b29-4c65-a4ad-046cac97bc8e"
      },
      "outputs": [],
      "source": [
        "print(random.randrange(1, 52))"
      ]
    },
    {
      "cell_type": "markdown",
      "metadata": {
        "id": "kjEhdO0bWHfV"
      },
      "source": [
        "How does a computer *randomly* generate something though? Well it doesn't. Python's random algorithm uses a **pseudorandom number generator (PRNG)**. There's a variety of these algorithms but they all essentially work by taking some starting \"seed\" number and performing some series of calculations on it to generate the next number (which will also be the next seed)."
      ]
    },
    {
      "cell_type": "markdown",
      "metadata": {
        "id": "z3cqZUyqW-Q-"
      },
      "source": [
        "For testing purposes, you can also set the seed to whatever number you want and the \"randomly\" generated numbers will always be the same for it."
      ]
    },
    {
      "cell_type": "code",
      "execution_count": null,
      "metadata": {
        "colab": {
          "base_uri": "https://localhost:8080/"
        },
        "id": "DYq2hYEYW2y2",
        "outputId": "2f3844d0-4cea-4b84-f2e1-651a0ea49391"
      },
      "outputs": [],
      "source": [
        "random.seed(0.05)\n",
        "\n",
        "print(random.random())"
      ]
    },
    {
      "cell_type": "markdown",
      "metadata": {
        "id": "XsjZNOMkXf8O"
      },
      "source": [
        "## Conditional Statements"
      ]
    },
    {
      "cell_type": "markdown",
      "metadata": {
        "id": "-_HQFr1t-Hgo"
      },
      "source": [
        "A block of code that will execute if a condition is true\n",
        "*  Start if statements with “if”\n",
        "*  The condition has to be true for the command to work\n",
        "*  Always include the colon after the condition is written\n",
        "*  The command always has to be indented, so that it’s under the if statement\n",
        "\n",
        "When do you use else statements?\n",
        "*   if the condition in the if statement is false and you want something else to happen when it's false you would use an else statement\n",
        "*   You can't have else statements without an if statement\n",
        "\n",
        "\n",
        "\n",
        "\n",
        "\n"
      ]
    },
    {
      "cell_type": "code",
      "execution_count": null,
      "metadata": {
        "colab": {
          "base_uri": "https://localhost:8080/"
        },
        "id": "GVCwgEyo_cWb",
        "outputId": "8400df8d-76a7-49af-f4c8-a1bdc9e301be"
      },
      "outputs": [],
      "source": [
        "if(5>6):\n",
        "  print(\"hooray\")\n",
        "\n",
        "else:\n",
        "  print(\"boo\")\n"
      ]
    },
    {
      "cell_type": "markdown",
      "metadata": {
        "id": "hm2B-mhn_ztG"
      },
      "source": [
        "# What are Elif Statements:\n",
        "This would be used when you have another specific condition you want to check.\n",
        "\n"
      ]
    },
    {
      "cell_type": "code",
      "execution_count": null,
      "metadata": {
        "id": "9UUe0TCZAzaD"
      },
      "outputs": [],
      "source": [
        "age = 20\n",
        "\n",
        "if(age>18):\n",
        "  print(\"You are an adult\")\n",
        "\n",
        "elif(age<13):\n",
        "  print(\"You are a child\")\n",
        "\n",
        "else:\n",
        "  print(\"You are a teenager\")"
      ]
    },
    {
      "cell_type": "markdown",
      "metadata": {
        "id": "LBEszhoFBkWU"
      },
      "source": [
        "# Logical Operators\n",
        "Used to checks two or more conditions with and/or\n",
        "\n",
        "\n",
        "> When **and** is used, both conditions have to be true for the command to run\n",
        "\n",
        "```\n",
        "if(5<18 and 6>3):\n",
        "  print(\"They're both true!\") #This wouldn't print out\n",
        "```\n",
        "> When **or** is used, at least one condition has to be true for the command to run\n",
        "\n",
        "```\n",
        "if(5>18 or 6>3):\n",
        "  print(\"At least one of the conditions are true!\") #This would print out\n",
        "  \n",
        "```\n",
        "\n",
        "\n",
        "\n",
        "\n",
        "\n",
        "\n",
        "\n"
      ]
    },
    {
      "cell_type": "markdown",
      "metadata": {
        "id": "mDvfhcofDOnx"
      },
      "source": [
        "# Loops\n",
        "We can use loops to do a specific line of code multiple times.\n",
        "## For - loops:\n",
        "A for-loop loops through some code a specific number of times - or *for* that many times.\n",
        "\n",
        "```\n",
        "for variable in range (howManyTime):\n",
        "    do this\n",
        "```"
      ]
    },
    {
      "cell_type": "markdown",
      "metadata": {
        "id": "0laMhPv49t-M"
      },
      "source": [
        "Here, the variable ```i``` is initially set to 0. The line of code inside of the for-loop is a print statement so the variable ```i``` is printed. The value of ```i``` is then increased by 1 and this repeats until is no longer *in the range of 5*, or when i is 4."
      ]
    },
    {
      "cell_type": "code",
      "execution_count": null,
      "metadata": {
        "colab": {
          "base_uri": "https://localhost:8080/"
        },
        "id": "p3Bbf0jK8b0g",
        "outputId": "557196aa-7742-4a49-c752-f1c867d6bfda"
      },
      "outputs": [],
      "source": [
        "for i in range (5):\n",
        "    print(i)"
      ]
    },
    {
      "cell_type": "markdown",
      "metadata": {
        "id": "4k8sqBbe-RnM"
      },
      "source": [
        "When we give it two parameters, the first one indicates the value ```i``` starts at. In this example, everything is the same but ```i``` starts at 2."
      ]
    },
    {
      "cell_type": "code",
      "execution_count": null,
      "metadata": {
        "colab": {
          "base_uri": "https://localhost:8080/"
        },
        "id": "yshLpyX58tse",
        "outputId": "f9237c9b-c671-4cce-83ff-32f5453e247b"
      },
      "outputs": [],
      "source": [
        "for i in range (2, 5):\n",
        "    print(i)"
      ]
    },
    {
      "cell_type": "markdown",
      "metadata": {
        "id": "WsiTuplj-iai"
      },
      "source": [
        "A third parameter indicates the amount ```i``` is incremented by. Instead of just adding 1, this is example, ```i``` is incremented by 3."
      ]
    },
    {
      "cell_type": "code",
      "execution_count": null,
      "metadata": {
        "colab": {
          "base_uri": "https://localhost:8080/"
        },
        "id": "_hhbUPfk8vA-",
        "outputId": "f96e00c1-4971-428b-d45a-15a109508647"
      },
      "outputs": [],
      "source": [
        "for i in range (3, 9, 3):\n",
        "    print(i)"
      ]
    },
    {
      "cell_type": "markdown",
      "metadata": {
        "id": "NkpBUC5c-z2T"
      },
      "source": [
        "The incrementing variable also technically doesn't need to be ```i``` - it can be anything."
      ]
    },
    {
      "cell_type": "code",
      "execution_count": null,
      "metadata": {
        "colab": {
          "base_uri": "https://localhost:8080/"
        },
        "id": "1D-A5_b8-6Z6",
        "outputId": "ffe28f19-8402-440e-9ea9-bf1ba2788d3e"
      },
      "outputs": [],
      "source": [
        "for lollipop in range (9):\n",
        "    print(\"I am lollipop\", lollipop)"
      ]
    }
  ],
  "metadata": {
    "colab": {
      "provenance": []
    },
    "kernelspec": {
      "display_name": "Python 3",
      "name": "python3"
    },
    "language_info": {
      "name": "python"
    }
  },
  "nbformat": 4,
  "nbformat_minor": 0
}
