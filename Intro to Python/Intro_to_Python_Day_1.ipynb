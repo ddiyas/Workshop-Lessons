{
  "cells": [
    {
      "cell_type": "code",
      "execution_count": null,
      "metadata": {
        "id": "XIPMHiypAhKl"
      },
      "outputs": [],
      "source": [
        "print(\"Hello world\")"
      ]
    },
    {
      "cell_type": "markdown",
      "metadata": {
        "id": "vr9yuN9EApoh"
      },
      "source": [
        "# Variables\n",
        "A variable is a container for the value it stores.\n",
        "\n",
        "A variable fundamentally has to have 3 characteristics:\n",
        "1. Name\n",
        "2. Content\n",
        "3. Address in memory\n",
        "\n",
        "The content of a variable can be changed...which is why it's called a ***VARIABLE***.\n",
        "\n",
        "```\n",
        "name = content\n",
        "```\n",
        "\n"
      ]
    },
    {
      "cell_type": "markdown",
      "metadata": {
        "id": "mM_E2Y9zBXa5"
      },
      "source": [
        "##String\n",
        "\n",
        "Strings are *strings* of characters enclosed in quotes. Everything that is in quotes is the literal value of the string.\n",
        "\n",
        "Strings are typically letters and symbols but can technically be anything enclosed in quotes."
      ]
    },
    {
      "cell_type": "code",
      "execution_count": null,
      "metadata": {
        "id": "tLrlzDbxBIi4"
      },
      "outputs": [],
      "source": [
        "name = \"Bob\"\n",
        "age = \"5\"\n",
        "print(type(name))\n",
        "print(type(age))\n",
        "\n",
        "print(\"The name is \" + name)\n",
        "print(name + \" is \"+ age + \" years old\")\n",
        "\n",
        "name = \"Bobette\" #changing the variable name to equal \"Bobette\"\n",
        "print(\"The name is \" + name)"
      ]
    },
    {
      "cell_type": "markdown",
      "metadata": {
        "id": "DFhK1WrVC8z6"
      },
      "source": [
        "## Integer\n",
        "\n",
        "Integers are whole numbers."
      ]
    },
    {
      "cell_type": "code",
      "execution_count": null,
      "metadata": {
        "id": "zU7e3D7NEcsJ"
      },
      "outputs": [],
      "source": [
        "num_1 = 8\n",
        "num_2 = 9\n",
        "\n",
        "print(type(num_1))\n",
        "print(num_1 + num_2)"
      ]
    },
    {
      "cell_type": "markdown",
      "metadata": {
        "id": "HcoqQC8mEzwY"
      },
      "source": [
        "## Float\n",
        "\n",
        "Floats are decimal values."
      ]
    },
    {
      "cell_type": "code",
      "execution_count": null,
      "metadata": {
        "id": "QE2jR24XE8DC"
      },
      "outputs": [],
      "source": [
        "pi = 3.141592653698793\n",
        "\n",
        "print(type(pi))\n",
        "print(pi)"
      ]
    },
    {
      "cell_type": "markdown",
      "metadata": {
        "id": "WHi999woHHFF"
      },
      "source": [
        "## Boolean\n",
        "\n",
        "Booleans are simply true or false values."
      ]
    },
    {
      "cell_type": "code",
      "execution_count": null,
      "metadata": {
        "id": "EpfIRchLHHFO"
      },
      "outputs": [],
      "source": [
        "the_truth = True\n",
        "the_lie = False\n",
        "\n",
        "print(type(the_truth))\n",
        "print(the_truth)"
      ]
    },
    {
      "cell_type": "markdown",
      "metadata": {
        "id": "iGa6n0TaHxDC"
      },
      "source": [
        "## Multiple Assignments\n",
        "\n",
        "You can also assign multiple variables values at the same time.\n",
        "\n"
      ]
    },
    {
      "cell_type": "code",
      "execution_count": null,
      "metadata": {
        "id": "2kjvFl6iH13H"
      },
      "outputs": [],
      "source": [
        "name, age, height, is_short = \"Jim\", 15, 59.5, False\n",
        "\n",
        "length = width = 5\n",
        "\n"
      ]
    },
    {
      "cell_type": "markdown",
      "metadata": {
        "id": "Qim-UERUOryY"
      },
      "source": [
        "**Exercise 1:**\n",
        "Create five different variables:\n",
        "*  Name\n",
        "*  Age\n",
        "*  Favorite Activity\n",
        "*  Centimeters In a Foot\n",
        "*  Older than 15 (true/false value)"
      ]
    },
    {
      "cell_type": "markdown",
      "metadata": {
        "id": "za_LEKQVIlOx"
      },
      "source": [
        "# String Concatenation\n",
        "\n",
        "String concatenation is the process of putting strings together."
      ]
    },
    {
      "cell_type": "code",
      "execution_count": null,
      "metadata": {
        "id": "UAoLtHmTI5yN"
      },
      "outputs": [],
      "source": [
        "season = \"Fall\"\n",
        "\n",
        "print(\"It's \" + season)"
      ]
    },
    {
      "cell_type": "markdown",
      "metadata": {
        "id": "hT_zcOSvJDpy"
      },
      "source": [
        "But what if you try to concatenate something that isn't a string with a string?"
      ]
    },
    {
      "cell_type": "code",
      "execution_count": null,
      "metadata": {
        "colab": {
          "base_uri": "https://localhost:8080/",
          "height": 200
        },
        "id": "v-G6V3KYJNHE",
        "outputId": "0fe8d35d-5adf-4f30-953f-e3a6ce5d259e"
      },
      "outputs": [],
      "source": [
        "# this will result in an error\n",
        "\n",
        "age = 3\n",
        "print(\"I am \" + age + \" years old\")"
      ]
    },
    {
      "cell_type": "markdown",
      "metadata": {
        "id": "CqacvGtd6oaJ"
      },
      "source": [
        "To fix this we do something called:\n",
        "## Casting\n",
        "\n",
        "When you cast a variable to another type, you aren't actually changing the type of the variable permanently, you are just changing it for that specific instance you needed to use it.\n",
        "\n",
        "The shortcuts to cast to each variable types are:\n",
        "\n",
        "```\n",
        "a_string = str(not_string)\n",
        "a_integer = int(not_integer)\n",
        "a_boolean = bool(not_boolean)\n",
        "a_float = float(not_float)\n",
        "```\n",
        "\n"
      ]
    },
    {
      "cell_type": "code",
      "execution_count": null,
      "metadata": {
        "colab": {
          "base_uri": "https://localhost:8080/"
        },
        "id": "4hutvY_W6wEI",
        "outputId": "5b5049a1-72bf-46e1-b87c-9d14030ec267"
      },
      "outputs": [],
      "source": [
        "# this will work now\n",
        "\n",
        "print(\"I am \" + str(age) + \" years old\")\n",
        "\n",
        "my name = \"Diya\" # this would result in an error\n",
        "my_name = \"\""
      ]
    },
    {
      "cell_type": "markdown",
      "metadata": {
        "id": "nUfCv9XpVwtJ"
      },
      "source": [
        "But, you can also put together strings with commas. This is fundamentally different from concatenating with ```+``` because the plus sign creates a new string in memory where the literal values of the two strings are put together. Commas however, add a space before and after the string. You also don't have to cast alternate data types to a string when using commas.\n",
        "\n"
      ]
    },
    {
      "cell_type": "code",
      "execution_count": null,
      "metadata": {
        "colab": {
          "base_uri": "https://localhost:8080/"
        },
        "id": "bNAkg6aCW1DB",
        "outputId": "8c7ba221-a84c-41a9-fa1b-812122143c8c"
      },
      "outputs": [],
      "source": [
        "print(\"I am\", age, \"years old\")"
      ]
    },
    {
      "cell_type": "markdown",
      "metadata": {
        "id": "tqzaK0tq-dIQ"
      },
      "source": [
        "### Casting rules:\n",
        "\n",
        "* String\n",
        " * Any type can be cast to a string\n",
        "* Integer\n",
        " * All floats can be cast to integers\n",
        " * Some strings can be cast to integers (i.e. if the string contains a value that IS an integer)\n",
        "* Float\n",
        " * All integers can be cast to floats\n",
        " * Some strings can be cast to integers (i.e. if the the string contains a value that IS a float"
      ]
    },
    {
      "cell_type": "markdown",
      "metadata": {
        "id": "IugAvcgPO0HW"
      },
      "source": [
        "**Exercise 2:**\n",
        "Print out your variables in this format\n",
        "\n",
        "1. My name is ____________.\n",
        "2. I am _____ years old.\n",
        "3. My favorite activity: _______\n",
        "4. 1 Foot = ____ centimeters\n",
        "5. I am older than 15: ________\n",
        "\n",
        "\n",
        "\n",
        "\n",
        "\n"
      ]
    },
    {
      "cell_type": "markdown",
      "metadata": {
        "id": "w2AVnJsAEFe9"
      },
      "source": [
        "\n",
        "\n",
        "---\n",
        "# Mad Libs:\n",
        "Write a Mad Libs game! Write a short story and have the user input some values to finish the story.\n",
        "\n",
        "**HINT:**\n",
        "\n",
        "\n",
        "```\n",
        "words = input(\"This will print this message and save the users' input in the variable \"words\" )\n",
        "```\n",
        "---\n",
        "\n"
      ]
    },
    {
      "cell_type": "markdown",
      "metadata": {
        "id": "uFC3RyJ9Kxg6"
      },
      "source": [
        "# Math Operators\n",
        "\n",
        "You can use addition (```+```), subtraction (```-```), division (```/```), multiplication (```*```), and modulus (```%```) operators in Python.\n",
        "\n",
        "The modulus operator returns the remainder of a division problem.\n",
        "\n",
        "e.g.\n",
        "```\n",
        "print(20 % 3)\n",
        "# this will print 2 because 20 / 3 has a remainder of 2\n",
        "```\n",
        "\n",
        "## Mixed Operators\n",
        "You can also combine some of the operators.\n",
        "\n",
        "* +=\n",
        " * **Add** something by a certain number and set the original value to the new number.\n",
        "* -=\n",
        " * **Subtract** something by a certain number and set the original value to the new number.\n",
        "* *=\n",
        " * **Multiply** something by a certain number and set the original value to the new number.\n",
        "* /=\n",
        " * **Divide** something by a certain number and set the original value to the new number.\n",
        "\n"
      ]
    },
    {
      "cell_type": "code",
      "execution_count": null,
      "metadata": {
        "id": "P6fj_fcSN8kK"
      },
      "outputs": [],
      "source": [
        "# +=\n",
        "x = 10\n",
        "x += 2\n",
        "print(x) # 12\n",
        "\n",
        "#-=\n",
        "y = 10\n",
        "y -= 2\n",
        "print(y) # 8\n",
        "\n",
        "# *=\n",
        "z = 10\n",
        "z *= 2\n",
        "print(z) # 20\n",
        "\n",
        "# /=\n",
        "a = 10\n",
        "a /= 2\n",
        "print(a) # 5"
      ]
    },
    {
      "cell_type": "markdown",
      "metadata": {
        "id": "-HUDQiYuOsJr"
      },
      "source": [
        "---\n",
        "# Multiplication Calculator\n",
        "\n",
        "Make a calculator that takes two inputted numbers from the user, multiplies them, then prints out the product.\n",
        "\n",
        "\n",
        "---\n",
        "\n",
        "\n",
        "\n"
      ]
    }
  ],
  "metadata": {
    "colab": {
      "provenance": []
    },
    "kernelspec": {
      "display_name": "Python 3",
      "name": "python3"
    },
    "language_info": {
      "name": "python"
    }
  },
  "nbformat": 4,
  "nbformat_minor": 0
}
