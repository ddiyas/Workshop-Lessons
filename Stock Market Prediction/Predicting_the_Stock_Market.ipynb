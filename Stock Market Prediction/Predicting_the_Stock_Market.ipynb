{
  "cells": [
    {
      "cell_type": "markdown",
      "metadata": {
        "id": "FawBuc7jsY_7"
      },
      "source": [
        "# Retrieving the data"
      ]
    },
    {
      "cell_type": "markdown",
      "metadata": {
        "id": "fju_dn5ys6kW"
      },
      "source": [
        "The S&P 500 is a stock market index that tracks the top 500 companies traded in the United States."
      ]
    },
    {
      "cell_type": "code",
      "execution_count": null,
      "metadata": {
        "id": "jb9nno-Usr2F"
      },
      "outputs": [],
      "source": [
        "#///////////\n",
        "import yfinance as yf\n",
        "sp500 = yf.Ticker(\"^GSPC\")\n",
        "sp500 = sp500.history(period=\"max\")\n",
        "#sp500 = sp500.history(start=\"1989-12-31\", end=None)"
      ]
    },
    {
      "cell_type": "code",
      "execution_count": null,
      "metadata": {
        "colab": {
          "base_uri": "https://localhost:8080/",
          "height": 455
        },
        "id": "DXHllW_4tswq",
        "outputId": "2874dabf-ed7a-465f-d015-ec59fca48c55"
      },
      "outputs": [],
      "source": [
        "sp500"
      ]
    },
    {
      "cell_type": "code",
      "execution_count": null,
      "metadata": {
        "colab": {
          "base_uri": "https://localhost:8080/",
          "height": 439
        },
        "id": "PX4oGGPh11xw",
        "outputId": "ee46659e-1612-4353-b925-1b63a1003006"
      },
      "outputs": [],
      "source": [
        "sp500.plot.line(y=\"Close\", use_index=True)"
      ]
    },
    {
      "cell_type": "code",
      "execution_count": null,
      "metadata": {
        "id": "f2oJeiQN2YHs"
      },
      "outputs": [],
      "source": [
        "#///////////\n",
        "del sp500[\"Dividends\"]\n",
        "del sp500[\"Stock Splits\"]"
      ]
    },
    {
      "cell_type": "code",
      "execution_count": null,
      "metadata": {
        "id": "QX6p6q7X2gMZ"
      },
      "outputs": [],
      "source": [
        "#///////////\n",
        "sp500[\"Tomorrow\"] = sp500[\"Close\"].shift(-1)\n",
        "sp500"
      ]
    },
    {
      "cell_type": "code",
      "execution_count": null,
      "metadata": {
        "id": "AriyBkEOCKhW"
      },
      "outputs": [],
      "source": [
        "# sp500[\"Target\"] = (sp500[\"Tomorrow\"] > sp500[\"Close\"])\n",
        "# is tomorrow's price greater than today's price?\n",
        "#///////////\n",
        "sp500[\"Target\"] = (sp500[\"Tomorrow\"] > sp500[\"Close\"]).astype(int)\n",
        "sp500"
      ]
    },
    {
      "cell_type": "code",
      "execution_count": null,
      "metadata": {
        "id": "xeQvEmv7DECh"
      },
      "outputs": [],
      "source": [
        "from sklearn.ensemble import RandomForestClassifier\n",
        "\n",
        "model = RandomForestClassifier(n_estimators=100, min_samples_split=100,  random_state=1)\n",
        "# random_state is like the starting seed value\n",
        "train = sp500.iloc[:-100]\n",
        "test = sp500.iloc[-100:]\n",
        "# this is like the goofy way to split the data, we'll fix it later\n",
        "predictors = [\"Close\", \"Volume\", \"Open\", \"High\", \"Low\"]\n",
        "model.fit(train[predictors], train[\"Target\"])"
      ]
    },
    {
      "cell_type": "code",
      "execution_count": null,
      "metadata": {
        "colab": {
          "base_uri": "https://localhost:8080/"
        },
        "id": "q-kuMn9RFvmA",
        "outputId": "88ad20d7-3f46-49be-a813-43f30e58ee0a"
      },
      "outputs": [],
      "source": [
        "from sklearn.metrics import precision_score\n",
        "import pandas as pd\n",
        "\n",
        "preds = model.predict(test[predictors])\n",
        "preds = pd.Series(preds, index=test.index)\n",
        "precision_score(test[\"Target\"], preds)"
      ]
    },
    {
      "cell_type": "code",
      "execution_count": null,
      "metadata": {
        "id": "gfRhxZgfJhsJ"
      },
      "outputs": [],
      "source": [
        "combined = pd.concat([test[\"Target\"], preds], axis=1)\n",
        "combined.plot()"
      ]
    },
    {
      "cell_type": "code",
      "execution_count": null,
      "metadata": {
        "id": "qbcrhTm4rbWo"
      },
      "outputs": [],
      "source": [
        "def predict (train, test, predictors, model):\n",
        "    model.fit(train[predictors], train[\"Target\"])\n",
        "    preds = model.predict(test[predictors])\n",
        "    preds = pd.Series(preds, index=test.index, name=\"Predictions\")\n",
        "    combined = pd.concat([test[\"Target\"], preds], axis=1)\n",
        "    return combined"
      ]
    },
    {
      "cell_type": "code",
      "execution_count": null,
      "metadata": {
        "id": "UUKKf1Yen6bw"
      },
      "outputs": [],
      "source": [
        "#///////////\n",
        "def backtest (data, model, predictors, start=2500, step=250):\n",
        "    all_predictions = []\n",
        "\n",
        "    for i in range(start, data.shape[0], step):\n",
        "        train = data.iloc[0:i].copy()\n",
        "        test = data.iloc[i:(i+step)].copy()\n",
        "        predictions = predict(train, test, predictors, model)\n",
        "        all_predictions.append(predictions)\n",
        "\n",
        "    return pd.concat(all_predictions)"
      ]
    },
    {
      "cell_type": "code",
      "execution_count": null,
      "metadata": {
        "id": "VGk26HBaoqae"
      },
      "outputs": [],
      "source": [
        "predictions = backtest(sp500, model, predictors)"
      ]
    },
    {
      "cell_type": "code",
      "execution_count": null,
      "metadata": {
        "colab": {
          "base_uri": "https://localhost:8080/"
        },
        "id": "XZyP1Rrqoumn",
        "outputId": "b0646dcf-d1c1-43e8-9af5-1b6e0202756a"
      },
      "outputs": [],
      "source": [
        "predictions[\"Predictions\"].value_counts()"
      ]
    },
    {
      "cell_type": "code",
      "execution_count": null,
      "metadata": {
        "colab": {
          "base_uri": "https://localhost:8080/"
        },
        "id": "rqH6xLeRo2dh",
        "outputId": "3c638982-799e-4135-9b55-2aedcccd0b3b"
      },
      "outputs": [],
      "source": [
        "precision_score(predictions[\"Target\"], predictions[\"Predictions\"])"
      ]
    },
    {
      "cell_type": "markdown",
      "metadata": {
        "id": "UsAF1PRLAhJw"
      },
      "source": [
        "These are the baseline values. The stock actually goes up 52.6% of the time."
      ]
    },
    {
      "cell_type": "code",
      "execution_count": null,
      "metadata": {
        "colab": {
          "base_uri": "https://localhost:8080/"
        },
        "id": "efyGKc8apaeW",
        "outputId": "f435454c-08d3-4ff8-bfa4-33de5850a3a8"
      },
      "outputs": [],
      "source": [
        "predictions[\"Target\"].value_counts() / predictions.shape[0]"
      ]
    },
    {
      "cell_type": "code",
      "execution_count": null,
      "metadata": {
        "id": "CGpyx2c6p0Tm"
      },
      "outputs": [],
      "source": [
        "#///////////\n",
        "horizons = [2, 5, 60, 250, 1000]\n",
        "new_predictors = []\n",
        "\n",
        "for horizon in horizons:\n",
        "    rolling_averages = sp500.rolling(horizon).mean()\n",
        "\n",
        "    ratio_column = f\"Close_Ratio_{horizon}\"\n",
        "    sp500[ratio_column] = sp500[\"Close\"] / rolling_averages[\"Close\"]\n",
        "\n",
        "    trend_column = f\"Trend_{horizon}\"\n",
        "    sp500[trend_column] = sp500.shift(1).rolling(horizon).sum()[\"Target\"]\n",
        "\n",
        "    new_predictors += [ratio_column, trend_column]"
      ]
    },
    {
      "cell_type": "code",
      "execution_count": null,
      "metadata": {
        "id": "zxnzLQF0q0KH"
      },
      "outputs": [],
      "source": [
        "#///////////\n",
        "sp500 = sp500.dropna(subset=sp500.columns[sp500.columns != \"Tomorrow\"])"
      ]
    },
    {
      "cell_type": "code",
      "execution_count": null,
      "metadata": {
        "id": "eTTNU6cyNTEW"
      },
      "outputs": [],
      "source": [
        "sp500"
      ]
    },
    {
      "cell_type": "code",
      "execution_count": null,
      "metadata": {
        "id": "ZdUz1GT9Q_qQ"
      },
      "outputs": [],
      "source": [
        "model = RandomForestClassifier(n_estimators=200, min_samples_split=50,  random_state=1)"
      ]
    },
    {
      "cell_type": "code",
      "execution_count": null,
      "metadata": {
        "id": "JFH-0QJWdxy2"
      },
      "outputs": [],
      "source": [
        "#///////////\n",
        "def predict(train, test, predictors, model):\n",
        "    model.fit(train[predictors], train[\"Target\"])\n",
        "    preds = model.predict_proba(test[predictors])[:,1]\n",
        "    preds[preds >=.6] = 1\n",
        "    preds[preds <.6] = 0\n",
        "    preds = pd.Series(preds, index=test.index, name=\"Predictions\")\n",
        "    combined = pd.concat([test[\"Target\"], preds], axis=1)\n",
        "    return combined"
      ]
    },
    {
      "cell_type": "code",
      "execution_count": null,
      "metadata": {
        "id": "o5MtN6VpedX6"
      },
      "outputs": [],
      "source": [
        "#///////////\n",
        "predictions = backtest(sp500, model, new_predictors)"
      ]
    },
    {
      "cell_type": "code",
      "execution_count": null,
      "metadata": {
        "colab": {
          "base_uri": "https://localhost:8080/"
        },
        "id": "JYsB1BKtkB-m",
        "outputId": "b189feba-d499-4d87-c263-77c36b278f5a"
      },
      "outputs": [],
      "source": [
        "#///////////\n",
        "predictions[\"Predictions\"].value_counts()"
      ]
    },
    {
      "cell_type": "code",
      "execution_count": null,
      "metadata": {
        "colab": {
          "base_uri": "https://localhost:8080/"
        },
        "id": "_ubJqmOVkNeS",
        "outputId": "fe644b42-e472-4d4d-cc1d-799a8ce77788"
      },
      "outputs": [],
      "source": [
        "#///////////\n",
        "precision_score(predictions[\"Target\"], predictions[\"Predictions\"])"
      ]
    },
    {
      "cell_type": "code",
      "execution_count": null,
      "metadata": {
        "colab": {
          "base_uri": "https://localhost:8080/"
        },
        "id": "1Wi0547kDWJq",
        "outputId": "a5ee052b-6d66-4bbe-ff0d-6c5c87277d8f"
      },
      "outputs": [],
      "source": [
        "predictions[\"Target\"].value_counts() / predictions.shape[0]"
      ]
    },
    {
      "cell_type": "code",
      "execution_count": null,
      "metadata": {
        "colab": {
          "base_uri": "https://localhost:8080/",
          "height": 455
        },
        "id": "bfw5f3BnDYbF",
        "outputId": "0b6a9581-92ec-45ef-ed11-339dae4b7c0b"
      },
      "outputs": [],
      "source": [
        "predictions"
      ]
    }
  ],
  "metadata": {
    "colab": {
      "provenance": []
    },
    "kernelspec": {
      "display_name": "Python 3",
      "name": "python3"
    },
    "language_info": {
      "name": "python"
    }
  },
  "nbformat": 4,
  "nbformat_minor": 0
}
