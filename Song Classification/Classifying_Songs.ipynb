{
  "nbformat": 4,
  "nbformat_minor": 0,
  "metadata": {
    "colab": {
      "provenance": []
    },
    "kernelspec": {
      "name": "python3",
      "display_name": "Python 3"
    },
    "language_info": {
      "name": "python"
    }
  },
  "cells": [
    {
      "cell_type": "markdown",
      "source": [
        "Our goal is to create a model that can take data about a song and determine the genre of a song.\n"
      ],
      "metadata": {
        "id": "pwDOBIlsmkyV"
      }
    },
    {
      "cell_type": "code",
      "source": [
        "import pandas as pd"
      ],
      "metadata": {
        "id": "k-t1bvTsrqZb"
      },
      "execution_count": null,
      "outputs": []
    },
    {
      "cell_type": "markdown",
      "source": [
        "## Cleaning up the data"
      ],
      "metadata": {
        "id": "_HSyGFWRsNV7"
      }
    },
    {
      "cell_type": "code",
      "source": [
        "df = pd.read_csv('/content/dataset.csv')\n",
        "sorted(df)"
      ],
      "metadata": {
        "id": "lTTGFf8prix2"
      },
      "execution_count": null,
      "outputs": []
    },
    {
      "cell_type": "markdown",
      "source": [
        "From here, we have to decide which of these characteristics of a song are most useful in determining its genre and drop the ones that aren't."
      ],
      "metadata": {
        "id": "7giLQhlVsP8D"
      }
    },
    {
      "cell_type": "code",
      "source": [
        "df = df.dropna(axis=0)\n",
        "df = df.drop(['Unnamed: 0', 'album_name', 'artists', 'explicit', 'track_name', 'mode', 'duration_ms', 'popularity', 'track_id'], axis=1)"
      ],
      "metadata": {
        "id": "levIPjplsrrL"
      },
      "execution_count": null,
      "outputs": []
    },
    {
      "cell_type": "markdown",
      "source": [
        "Out of the genres our dataset has sorted by, we will be picking Indian - kind of vague but let's see what happens! You could also technically follow these steps with artists instead of genres though you would have to be careful to pick an artist that has a distinctive style of music."
      ],
      "metadata": {
        "id": "0BplyMV4u0Z3"
      }
    },
    {
      "cell_type": "code",
      "source": [
        "df = df.replace({\"indian\" : 1})\n",
        "df.loc[df['track_genre'] != 'indian'] = 0"
      ],
      "metadata": {
        "id": "PPEP-Zo-zS7w"
      },
      "execution_count": null,
      "outputs": []
    },
    {
      "cell_type": "markdown",
      "source": [
        "## Splitting the dataset"
      ],
      "metadata": {
        "id": "b-zXHR1D28lq"
      }
    },
    {
      "cell_type": "code",
      "source": [
        "y = df.pop('track_genre')"
      ],
      "metadata": {
        "id": "eXSsNDW4fRDr"
      },
      "execution_count": null,
      "outputs": []
    },
    {
      "cell_type": "code",
      "source": [
        "from sklearn.model_selection import train_test_split\n",
        "import tensorflow as tf\n",
        "\n",
        "X = df\n",
        "\n",
        "import numpy as np\n",
        "\n",
        "# Convert the NumPy array to float32\n",
        "X = np.asarray(X).astype(np.float32)\n",
        "y = np.asarray(y).astype(np.float32)\n",
        "\n",
        "X_train, X_test, y_train, y_test = train_test_split(X, y, test_size=0.3) #y track genre category x every other trait, training wwith 30%\n",
        "\n",
        "\n",
        "xtens = tf.convert_to_tensor(X_train, dtype=tf.float32)\n",
        "ytens = tf.convert_to_tensor(y_train, dtype=tf.float32)"
      ],
      "metadata": {
        "id": "VyP_HsUA3BJz"
      },
      "execution_count": null,
      "outputs": []
    },
    {
      "cell_type": "markdown",
      "source": [
        "```test_size=0.3``` specifies that 30% of the data will be used for testing the model while 70% will be used to train the model\n",
        "\n",
        "```tf.convert_to_tensor()``` converts the data that is in ```X_train``` into a Tensor that can be used to input into a TensorFlow model\n",
        "\n"
      ],
      "metadata": {
        "id": "zusd8Xpr5eD1"
      }
    },
    {
      "cell_type": "code",
      "source": [
        "# Setting up the model\n",
        "model = tf.keras.models.Sequential()\n",
        "model.add(tf.keras.layers.Dense(10, activation=\"relu\"))\n",
        "model.add(tf.keras.layers.Dense(1, activation=\"sigmoid\"))\n",
        "\n",
        "\n",
        "# Training the model\n",
        "model.compile(optimizer=\"adam\",loss=\"binary_crossentropy\", metrics=[\"accuracy\"])\n",
        "model.fit(xtens, ytens, epochs=100)"
      ],
      "metadata": {
        "id": "QipUePCv3vd7"
      },
      "execution_count": null,
      "outputs": []
    },
    {
      "cell_type": "markdown",
      "source": [
        "```binary_crossentropy``` is appropriate for our model because we want a binary classification - whether something is something or it is not something.\n",
        "\n",
        "```metrics=[\"accuracy\"]``` means that our model will be evaluated on how accurate it is."
      ],
      "metadata": {
        "id": "7RjPxO-i7aII"
      }
    },
    {
      "cell_type": "code",
      "source": [
        "tf.saved_model.save(model, '/content/model.saved_model')"
      ],
      "metadata": {
        "id": "hMx4NgWRiY4j"
      },
      "execution_count": null,
      "outputs": []
    }
  ]
}